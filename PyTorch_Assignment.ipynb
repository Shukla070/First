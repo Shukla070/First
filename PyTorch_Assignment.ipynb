{
  "nbformat": 4,
  "nbformat_minor": 0,
  "metadata": {
    "colab": {
      "provenance": [],
      "collapsed_sections": [
        "1tRkI1j1xGzl",
        "IxOFseFaxEQu",
        "DNTlDxZ4C4-R"
      ],
      "include_colab_link": true
    },
    "kernelspec": {
      "name": "python3",
      "display_name": "Python 3"
    },
    "language_info": {
      "name": "python"
    }
  },
  "cells": [
    {
      "cell_type": "markdown",
      "metadata": {
        "id": "view-in-github",
        "colab_type": "text"
      },
      "source": [
        "<a href=\"https://colab.research.google.com/github/Shukla070/First/blob/main/PyTorch_Assignment.ipynb\" target=\"_parent\"><img src=\"https://colab.research.google.com/assets/colab-badge.svg\" alt=\"Open In Colab\"/></a>"
      ]
    },
    {
      "cell_type": "markdown",
      "source": [
        "#  **PyTorch Practice Assignment**\n",
        "**Name**: Utkarsh Shukla\n",
        "\n",
        "**Roll Number**: 231AI040"
      ],
      "metadata": {
        "id": "CDn9wbMS0a0r"
      }
    },
    {
      "cell_type": "markdown",
      "source": [
        "## **Instructions:**\n",
        "\n",
        "- Copy this Notebook to your own Drive! You cannot directly modify it.\n",
        "- Please show the output of the cells, in case of some operation. You can specify your own **non-trivial** test-case. Also, try and make your snippets into functions to organize your logic.\n",
        "- You can use any number of cells for a question, you are not restricted to just 1 cell!\n",
        "- **No using ChatGPT for this assignment**: we highly recommend using the [Pytorch Docs](https://pytorch.org/docs/stable/index.html) as your start reference, as well as the vast internet however. You can also contact any of your mentors for some hints/help!\n",
        "- You can work on this assignment in Google Colab or on Your Local Machine!"
      ],
      "metadata": {
        "id": "ENyCsRHv1gqA"
      }
    },
    {
      "cell_type": "markdown",
      "source": [
        "### **Build Up Your Understanding**"
      ],
      "metadata": {
        "id": "1tRkI1j1xGzl"
      }
    },
    {
      "cell_type": "markdown",
      "source": [
        "1. Write a PyTorch snippet to test whether none of the elements of a given tensor are zero."
      ],
      "metadata": {
        "id": "R75QYzJlz874"
      }
    },
    {
      "cell_type": "code",
      "execution_count": 1,
      "metadata": {
        "id": "YrnLJibzzT0d",
        "colab": {
          "base_uri": "https://localhost:8080/"
        },
        "outputId": "b33c7c0d-7d27-48ab-9cd2-25b5d66537a1"
      },
      "outputs": [
        {
          "output_type": "stream",
          "name": "stdout",
          "text": [
            "tensor(True)\n",
            "tensor(False)\n"
          ]
        }
      ],
      "source": [
        "import torch\n",
        "tensor1 = torch.tensor([1,2,3,4])\n",
        "tensor2 = torch.tensor([0,1,2,3])\n",
        "check1 = torch.all(tensor1 != 0)\n",
        "check2 = torch.all(tensor2 !=0)\n",
        "print(check1)\n",
        "print(check2)"
      ]
    },
    {
      "cell_type": "markdown",
      "source": [
        "2. Write a PyTorch snippet to test element-wise for NaN of a given tensor."
      ],
      "metadata": {
        "id": "N65zZ0B20CcN"
      }
    },
    {
      "cell_type": "code",
      "source": [
        "tensor1 = torch.tensor([1.,2.,3.,float('nan'),5.])\n",
        "check1 = torch.isnan(tensor1)\n",
        "print(check1)\n"
      ],
      "metadata": {
        "id": "09XtXleK0Yqx",
        "colab": {
          "base_uri": "https://localhost:8080/"
        },
        "outputId": "c0a61817-0d39-4fdf-b4b3-5c2230e0302d"
      },
      "execution_count": 2,
      "outputs": [
        {
          "output_type": "stream",
          "name": "stdout",
          "text": [
            "tensor([False, False, False,  True, False])\n"
          ]
        }
      ]
    },
    {
      "cell_type": "markdown",
      "source": [
        "3. Write a PyTorch snippet to test whether two tensors are element-wise equal within a tolerance."
      ],
      "metadata": {
        "id": "nPgqdCS60ZLy"
      }
    },
    {
      "cell_type": "code",
      "source": [
        "tensor1 = torch.tensor([1,2,3,4])\n",
        "tensor2 = torch.tensor([1,2,4,3])\n",
        "tensor3 = torch.tensor([1,2,3,4])\n",
        "torch.equal(tensor1,tensor2) , torch.equal(tensor1,tensor3)"
      ],
      "metadata": {
        "id": "nZlp4IJh1TAG",
        "colab": {
          "base_uri": "https://localhost:8080/"
        },
        "outputId": "9bcec68c-d095-465b-c456-0963ba7af6fd"
      },
      "execution_count": 3,
      "outputs": [
        {
          "output_type": "execute_result",
          "data": {
            "text/plain": [
              "(False, True)"
            ]
          },
          "metadata": {},
          "execution_count": 3
        }
      ]
    },
    {
      "cell_type": "markdown",
      "source": [
        "4. Write a PyTorch snippet to create a tensor of 10 zeros, 10 ones, and 10 fives stacked on top of each other (try & accomplish everything using nested function calls)."
      ],
      "metadata": {
        "id": "6erc53t11ToS"
      }
    },
    {
      "cell_type": "code",
      "source": [
        "tensor = torch.vstack((torch.zeros(10) , torch.ones(10), torch.full((10,) ,5)))\n",
        "tensor"
      ],
      "metadata": {
        "id": "DX2o4rH81cXb",
        "colab": {
          "base_uri": "https://localhost:8080/"
        },
        "outputId": "0cba9d33-fa01-413c-c855-1b918cc72139"
      },
      "execution_count": 4,
      "outputs": [
        {
          "output_type": "execute_result",
          "data": {
            "text/plain": [
              "tensor([[0., 0., 0., 0., 0., 0., 0., 0., 0., 0.],\n",
              "        [1., 1., 1., 1., 1., 1., 1., 1., 1., 1.],\n",
              "        [5., 5., 5., 5., 5., 5., 5., 5., 5., 5.]])"
            ]
          },
          "metadata": {},
          "execution_count": 4
        }
      ]
    },
    {
      "cell_type": "markdown",
      "source": [
        "5. Write a PyTorch snippet to generate a random number between 0 and 1."
      ],
      "metadata": {
        "id": "HVZFHjER15fI"
      }
    },
    {
      "cell_type": "code",
      "source": [
        "temp = torch.rand(1).item()\n",
        "temp"
      ],
      "metadata": {
        "id": "D2sDJxaL16ev",
        "colab": {
          "base_uri": "https://localhost:8080/"
        },
        "outputId": "1ad39409-6915-4402-a2c9-b69196eee79a"
      },
      "execution_count": 5,
      "outputs": [
        {
          "output_type": "execute_result",
          "data": {
            "text/plain": [
              "0.4181209206581116"
            ]
          },
          "metadata": {},
          "execution_count": 5
        }
      ]
    },
    {
      "cell_type": "markdown",
      "source": [
        "6. Write a PyTorch snippet to generate a tensor of 15 random numbers from a standard normal distribution."
      ],
      "metadata": {
        "id": "v-bl_RmJ19U2"
      }
    },
    {
      "cell_type": "code",
      "source": [
        "tensor = torch.randn(15)\n",
        "tensor"
      ],
      "metadata": {
        "id": "TwOTzLLz1-Oj",
        "colab": {
          "base_uri": "https://localhost:8080/"
        },
        "outputId": "06eb8622-267b-4bb8-894d-0bfd9942b080"
      },
      "execution_count": 6,
      "outputs": [
        {
          "output_type": "execute_result",
          "data": {
            "text/plain": [
              "tensor([ 0.3991,  1.2903,  0.2184,  0.8006, -0.5377,  1.0456,  0.9280,  1.7323,\n",
              "        -0.7011,  0.1915,  2.1814, -1.0170,  0.6519, -0.1417, -0.0036])"
            ]
          },
          "metadata": {},
          "execution_count": 6
        }
      ]
    },
    {
      "cell_type": "markdown",
      "source": [
        "7. Write a Pytorch snippet to create a tensor of length 10 with values evenly distributed between 5 and 50."
      ],
      "metadata": {
        "id": "QbsLwc2e1-wI"
      }
    },
    {
      "cell_type": "code",
      "source": [
        "tensor = torch.linspace(5,50,10)\n",
        "tensor"
      ],
      "metadata": {
        "id": "4x-aEGJy2F_J",
        "colab": {
          "base_uri": "https://localhost:8080/"
        },
        "outputId": "64e3f2f1-d45f-4bee-ba2a-a84130e949b5"
      },
      "execution_count": 7,
      "outputs": [
        {
          "output_type": "execute_result",
          "data": {
            "text/plain": [
              "tensor([ 5., 10., 15., 20., 25., 30., 35., 40., 45., 50.])"
            ]
          },
          "metadata": {},
          "execution_count": 7
        }
      ]
    },
    {
      "cell_type": "markdown",
      "source": [
        "8. Write a Pyorch program to create a tensor with values from 0 to 20 and change the sign of the numbers in the range from 9 to 15."
      ],
      "metadata": {
        "id": "z4t6r6xR2IyJ"
      }
    },
    {
      "cell_type": "code",
      "source": [
        "tensor = torch.arange(0,21)\n",
        "tensor[(tensor>=9) & (tensor<=15)] *= -1\n",
        "tensor"
      ],
      "metadata": {
        "id": "2ckG-mcF2Jda",
        "colab": {
          "base_uri": "https://localhost:8080/"
        },
        "outputId": "a30b3be7-65ca-4677-f926-039e4af31fd7"
      },
      "execution_count": 8,
      "outputs": [
        {
          "output_type": "execute_result",
          "data": {
            "text/plain": [
              "tensor([  0,   1,   2,   3,   4,   5,   6,   7,   8,  -9, -10, -11, -12, -13,\n",
              "        -14, -15,  16,  17,  18,  19,  20])"
            ]
          },
          "metadata": {},
          "execution_count": 8
        }
      ]
    },
    {
      "cell_type": "markdown",
      "source": [
        "9. Write a PyTorch snippet to create a 3x4 2-tensor filled with values from 10 to 21. Same but 12 to 24."
      ],
      "metadata": {
        "id": "n5piPDEY2NXK"
      }
    },
    {
      "cell_type": "code",
      "source": [
        "tensor1 = torch.arange(10,22).reshape(3,4)\n",
        "tensor2 = torch.arange(12,24).reshape(3,4)\n",
        "tensor1,tensor2"
      ],
      "metadata": {
        "id": "zKzFvfPP2OOy",
        "colab": {
          "base_uri": "https://localhost:8080/"
        },
        "outputId": "1cc7a0db-fba2-4f41-855d-d8415c7ca11e"
      },
      "execution_count": 9,
      "outputs": [
        {
          "output_type": "execute_result",
          "data": {
            "text/plain": [
              "(tensor([[10, 11, 12, 13],\n",
              "         [14, 15, 16, 17],\n",
              "         [18, 19, 20, 21]]),\n",
              " tensor([[12, 13, 14, 15],\n",
              "         [16, 17, 18, 19],\n",
              "         [20, 21, 22, 23]]))"
            ]
          },
          "metadata": {},
          "execution_count": 9
        }
      ]
    },
    {
      "cell_type": "markdown",
      "source": [
        "10. Write a PyTorch snippet to create a 10x10 2-tensor, in which the elements on the borders will be equal to 1, and inside 0."
      ],
      "metadata": {
        "id": "BMbpvCE12UAA"
      }
    },
    {
      "cell_type": "code",
      "source": [
        "tensor = torch.zeros(100).reshape(10,10)\n",
        "tensor[:,0] =1\n",
        "tensor[0,:] =1\n",
        "tensor[9,:]=1\n",
        "tensor[:,9]=1\n",
        "tensor"
      ],
      "metadata": {
        "id": "-e2dvNB12Uv4",
        "colab": {
          "base_uri": "https://localhost:8080/"
        },
        "outputId": "430de8cf-1249-43a9-e7d8-429d62c63f71"
      },
      "execution_count": 10,
      "outputs": [
        {
          "output_type": "execute_result",
          "data": {
            "text/plain": [
              "tensor([[1., 1., 1., 1., 1., 1., 1., 1., 1., 1.],\n",
              "        [1., 0., 0., 0., 0., 0., 0., 0., 0., 1.],\n",
              "        [1., 0., 0., 0., 0., 0., 0., 0., 0., 1.],\n",
              "        [1., 0., 0., 0., 0., 0., 0., 0., 0., 1.],\n",
              "        [1., 0., 0., 0., 0., 0., 0., 0., 0., 1.],\n",
              "        [1., 0., 0., 0., 0., 0., 0., 0., 0., 1.],\n",
              "        [1., 0., 0., 0., 0., 0., 0., 0., 0., 1.],\n",
              "        [1., 0., 0., 0., 0., 0., 0., 0., 0., 1.],\n",
              "        [1., 0., 0., 0., 0., 0., 0., 0., 0., 1.],\n",
              "        [1., 1., 1., 1., 1., 1., 1., 1., 1., 1.]])"
            ]
          },
          "metadata": {},
          "execution_count": 10
        }
      ]
    },
    {
      "cell_type": "markdown",
      "source": [
        "11. Write a PyTorch snippet to create a 5x5 zero 2-tensor with elements on the main diagonal equal to 1, 2, 3, 4, 5."
      ],
      "metadata": {
        "id": "3pf24Y0R2YKX"
      }
    },
    {
      "cell_type": "code",
      "source": [
        "# tensor =torch.zeros(5,5)\n",
        "# for i in range(5):\n",
        "#   tensor[i,i] = i+1\n",
        "\n",
        "# tensor = torch.diag(torch.tensor([1,2,3,4,5]))\n",
        "# tensor\n",
        "\n",
        "a = torch.tensor([1,2,3,4,5])\n",
        "torch.diag(a)"
      ],
      "metadata": {
        "id": "eb_vYa5n2Y8O",
        "colab": {
          "base_uri": "https://localhost:8080/"
        },
        "outputId": "04dc00a2-083e-4cc7-9731-8a0794a3105c"
      },
      "execution_count": 11,
      "outputs": [
        {
          "output_type": "execute_result",
          "data": {
            "text/plain": [
              "tensor([[1, 0, 0, 0, 0],\n",
              "        [0, 2, 0, 0, 0],\n",
              "        [0, 0, 3, 0, 0],\n",
              "        [0, 0, 0, 4, 0],\n",
              "        [0, 0, 0, 0, 5]])"
            ]
          },
          "metadata": {},
          "execution_count": 11
        }
      ]
    },
    {
      "cell_type": "markdown",
      "source": [
        "12. Write a PyTorch snippet to save a given tensor as a binary to a given path."
      ],
      "metadata": {
        "id": "-BkVD0CA2hWL"
      }
    },
    {
      "cell_type": "code",
      "source": [
        "tensor = torch.tensor([1,2,3])\n",
        "path = 'tensor.path'\n",
        "torch.save(tensor,path)\n",
        "print(f\"Tensor saved to {path}\")"
      ],
      "metadata": {
        "id": "DrpbNVax2igN",
        "colab": {
          "base_uri": "https://localhost:8080/"
        },
        "outputId": "10b1f794-b109-4a6c-d003-c32d82baeae7"
      },
      "execution_count": 12,
      "outputs": [
        {
          "output_type": "stream",
          "name": "stdout",
          "text": [
            "Tensor saved to tensor.path\n"
          ]
        }
      ]
    },
    {
      "cell_type": "markdown",
      "source": [
        "13. Write a NumPy program to create a two-dimensional array of a specified format."
      ],
      "metadata": {
        "id": "1zoIfD1k2i71"
      }
    },
    {
      "cell_type": "code",
      "source": [
        "tensor =torch.arange(0,10).reshape(2,5)\n",
        "tensor"
      ],
      "metadata": {
        "id": "xXnOECag2zvz",
        "colab": {
          "base_uri": "https://localhost:8080/"
        },
        "outputId": "77652ccd-ff65-4738-a7f4-3c00a16f572d"
      },
      "execution_count": 13,
      "outputs": [
        {
          "output_type": "execute_result",
          "data": {
            "text/plain": [
              "tensor([[0, 1, 2, 3, 4],\n",
              "        [5, 6, 7, 8, 9]])"
            ]
          },
          "metadata": {},
          "execution_count": 13
        }
      ]
    },
    {
      "cell_type": "markdown",
      "source": [
        "14. Write a PyTorch snippet to create a 2-tensor with shape (8,5) of random numbers. Select these random numbers (to create the tensor) from a normal distribution (200,7) (mean, variance)."
      ],
      "metadata": {
        "id": "1V6fwGje28Ak"
      }
    },
    {
      "cell_type": "code",
      "source": [
        "mean = 100\n",
        "variance =5\n",
        "std_dev = variance**0.5\n",
        "\n",
        "tensor =torch.normal(mean=mean,std=std_dev,size=(8,5))\n",
        "tensor"
      ],
      "metadata": {
        "id": "f5pdwN9d27Rr",
        "colab": {
          "base_uri": "https://localhost:8080/"
        },
        "outputId": "1a59c676-c1a3-4983-c70e-702f640aadea"
      },
      "execution_count": 14,
      "outputs": [
        {
          "output_type": "execute_result",
          "data": {
            "text/plain": [
              "tensor([[101.8392,  99.7350, 103.5795,  99.4965, 102.4038],\n",
              "        [ 98.2246,  96.7429, 100.0115,  99.9175,  95.3416],\n",
              "        [100.7197, 103.8773, 102.4690, 102.2542, 100.4443],\n",
              "        [100.2855, 100.9126,  96.1283, 101.7393,  93.4488],\n",
              "        [ 98.7701,  98.5987,  97.2283,  97.2864,  98.5336],\n",
              "        [ 98.7630, 103.1608,  99.1093, 102.4418,  98.3866],\n",
              "        [ 99.1269, 100.7508, 102.1522, 102.5088,  93.9759],\n",
              "        [ 98.3532,  98.9229, 102.5638, 101.1137, 102.4164]])"
            ]
          },
          "metadata": {},
          "execution_count": 14
        }
      ]
    },
    {
      "cell_type": "markdown",
      "source": [
        "15. Write a PyTorch snippet to generate a uniform, non-uniform random sample from a given vector with and without replacement (do all 4 combinations possible)."
      ],
      "metadata": {
        "id": "hSVeltdw3IoY"
      }
    },
    {
      "cell_type": "code",
      "source": [
        "vector = torch.tensor([1,2,3,4,5,6])\n",
        "\n",
        "#1.) uniform with replacement\n",
        "tensor1 =vector[torch.randint(len(vector),(5,))]\n",
        "print(tensor1)\n",
        "\n",
        "#2.) uniform without replacement\n",
        "tensor2 = vector[torch.randperm(len(vector))[:3]]\n",
        "print(tensor2)\n",
        "\n",
        "#3.) non-uniform with replacement\n",
        "prob = torch.tensor([0.1,0.2,0.3,0.1,0.1,0.2])\n",
        "tensor3 = torch.multinomial(prob,6,replacement=True)\n",
        "tensor3 = vector[tensor3]\n",
        "print(tensor3)\n",
        "\n",
        "#4.) non-uniform without replacement\n",
        "prob = torch.tensor([0.1,0.2,0.3,0.3,0.1,0.0])\n",
        "tensor4 = torch.multinomial(prob,4,replacement=False)\n",
        "tensor4 = vector[tensor4]\n",
        "print(tensor4)"
      ],
      "metadata": {
        "id": "ZfDNMghS3Jof",
        "colab": {
          "base_uri": "https://localhost:8080/"
        },
        "outputId": "e3b0b3c3-3917-4e41-ab72-9e68da2a319f"
      },
      "execution_count": 15,
      "outputs": [
        {
          "output_type": "stream",
          "name": "stdout",
          "text": [
            "tensor([2, 5, 4, 2, 1])\n",
            "tensor([2, 4, 5])\n",
            "tensor([3, 3, 6, 2, 2, 2])\n",
            "tensor([1, 5, 2, 3])\n"
          ]
        }
      ]
    },
    {
      "cell_type": "markdown",
      "source": [
        "16. Write a Pyorch snippet to create an nxn(input to function) tensor with random values. Create an array from the said array swapping first and last rows."
      ],
      "metadata": {
        "id": "DOIrjKBq3MjM"
      }
    },
    {
      "cell_type": "code",
      "source": [
        "def create(n):\n",
        "  tensor = torch.randn(n,n)\n",
        "\n",
        "  print(tensor)\n",
        "  temp =tensor[0].clone()\n",
        "  tensor[0] = tensor[-1]\n",
        "  tensor[-1] =temp\n",
        "  print(\"\\nAfter excahnging\\n\")\n",
        "  print(tensor)\n",
        "\n",
        "n=4\n",
        "create(n)"
      ],
      "metadata": {
        "id": "xFkWtcTN3MI3",
        "colab": {
          "base_uri": "https://localhost:8080/"
        },
        "outputId": "954af7cc-cdae-4626-8f20-dbcde49ac855"
      },
      "execution_count": 16,
      "outputs": [
        {
          "output_type": "stream",
          "name": "stdout",
          "text": [
            "tensor([[ 1.1626,  0.4988, -0.7722, -0.3412],\n",
            "        [-0.7308, -0.1056, -0.0366,  1.0504],\n",
            "        [-0.5019, -1.0208,  2.4817,  0.1264],\n",
            "        [-1.6116,  0.0643, -0.3873, -0.0647]])\n",
            "\n",
            "After excahnging\n",
            "\n",
            "tensor([[-1.6116,  0.0643, -0.3873, -0.0647],\n",
            "        [-0.7308, -0.1056, -0.0366,  1.0504],\n",
            "        [-0.5019, -1.0208,  2.4817,  0.1264],\n",
            "        [ 1.1626,  0.4988, -0.7722, -0.3412]])\n"
          ]
        }
      ]
    },
    {
      "cell_type": "markdown",
      "source": [
        "17. Write a PyTorch snippet to sort a given tensor (1D or 2D) in ascending order."
      ],
      "metadata": {
        "id": "e2yl3FJI3SOW"
      }
    },
    {
      "cell_type": "code",
      "source": [
        "tensor1 = torch.tensor([5,54,1,46,9])\n",
        "tensor2 =torch.tensor([10,1,9,2,8,5,3,4,6,7]).reshape(2,5)\n",
        "print(torch.sort(tensor1).values)\n",
        "print(\"\\n\\n\")\n",
        "print(torch.sort(tensor2).values)"
      ],
      "metadata": {
        "id": "FxiCfs8y3R8W",
        "colab": {
          "base_uri": "https://localhost:8080/"
        },
        "outputId": "7b2c865e-ac32-4810-d5fa-51e999b88cab"
      },
      "execution_count": 17,
      "outputs": [
        {
          "output_type": "stream",
          "name": "stdout",
          "text": [
            "tensor([ 1,  5,  9, 46, 54])\n",
            "\n",
            "\n",
            "\n",
            "tensor([[ 1,  2,  8,  9, 10],\n",
            "        [ 3,  4,  5,  6,  7]])\n"
          ]
        }
      ]
    },
    {
      "cell_type": "markdown",
      "source": [
        "18. Write a PyTorch snippet to create a tensor of equal shape and data type for a given tensor (any dimensional)"
      ],
      "metadata": {
        "id": "TY1htljY3X50"
      }
    },
    {
      "cell_type": "code",
      "source": [
        "def equal(n):\n",
        "  tensor = torch.randn(n,n)\n",
        "  print(tensor,tensor.dtype)\n",
        "\n",
        "n =3\n",
        "equal(n)\n"
      ],
      "metadata": {
        "id": "br714aF43Xax",
        "colab": {
          "base_uri": "https://localhost:8080/"
        },
        "outputId": "29793750-4581-490c-f9b4-d74c40d471d3"
      },
      "execution_count": 18,
      "outputs": [
        {
          "output_type": "stream",
          "name": "stdout",
          "text": [
            "tensor([[-1.6571, -0.0952,  0.6263],\n",
            "        [-1.3492,  0.1660,  1.4574],\n",
            "        [ 0.9518, -0.7263, -0.6380]]) torch.float32\n"
          ]
        }
      ]
    },
    {
      "cell_type": "markdown",
      "source": [
        "19. Write a PyTorch snippet to create an 8x8 matrix and fill it with a checkerboard pattern.\n",
        "Checkerboard pattern:\n",
        "```py\n",
        "[[0 1 0 1 0 1 0 1]\n",
        "..........\n",
        "[0 1 0 1 0 1 0 1]\n",
        "[1 0 1 0 1 0 1 0]]\n",
        "```"
      ],
      "metadata": {
        "id": "jWZmWlDz3kE-"
      }
    },
    {
      "cell_type": "code",
      "source": [
        "tensor = torch.ones(8,8)\n",
        "\n",
        "indices = [(i,j) for i in range(8) for j in range(8) if (i+j)%2==0]\n",
        "\n",
        "rows,cols = zip(*indices)\n",
        "\n",
        "tensor[rows,cols]=0\n",
        "\n",
        "tensor"
      ],
      "metadata": {
        "id": "gUQpw8Fg3lag",
        "colab": {
          "base_uri": "https://localhost:8080/"
        },
        "outputId": "2c8d4416-2924-4f01-d744-b2405b4e59bf"
      },
      "execution_count": 19,
      "outputs": [
        {
          "output_type": "execute_result",
          "data": {
            "text/plain": [
              "tensor([[0., 1., 0., 1., 0., 1., 0., 1.],\n",
              "        [1., 0., 1., 0., 1., 0., 1., 0.],\n",
              "        [0., 1., 0., 1., 0., 1., 0., 1.],\n",
              "        [1., 0., 1., 0., 1., 0., 1., 0.],\n",
              "        [0., 1., 0., 1., 0., 1., 0., 1.],\n",
              "        [1., 0., 1., 0., 1., 0., 1., 0.],\n",
              "        [0., 1., 0., 1., 0., 1., 0., 1.],\n",
              "        [1., 0., 1., 0., 1., 0., 1., 0.]])"
            ]
          },
          "metadata": {},
          "execution_count": 19
        }
      ]
    },
    {
      "cell_type": "markdown",
      "source": [
        "20. Write a Pytorch snippet to convert Centigrade to Fahrenheit and vice versa (controlled by a parameter). Ensure you operation is vectorized i.e **no explicit looping**\n",
        "\n",
        "Sample Array: `[0, 12, 45.21, 34, 99.91]`"
      ],
      "metadata": {
        "id": "yB4L7Usg364D"
      }
    },
    {
      "cell_type": "code",
      "source": [
        "Celsius = torch.tensor([0, 12, 45.21, 34, 99.91])\n",
        "Farenheit = torch.tensor([0, 12, 45.21, 34, 99.91])\n",
        "#Celsius to Fareheit\n",
        "Faren = Celsius*9/5 +32\n",
        "Cels = (Farenheit-32)*5/9\n",
        "print(Faren)\n",
        "print(Cels)"
      ],
      "metadata": {
        "id": "IPTecJEQ3_JC",
        "colab": {
          "base_uri": "https://localhost:8080/"
        },
        "outputId": "ef62244f-5f25-4454-84d5-b9daf191f10a"
      },
      "execution_count": 20,
      "outputs": [
        {
          "output_type": "stream",
          "name": "stdout",
          "text": [
            "tensor([ 32.0000,  53.6000, 113.3780,  93.2000, 211.8380])\n",
            "tensor([-17.7778, -11.1111,   7.3389,   1.1111,  37.7278])\n"
          ]
        }
      ]
    },
    {
      "cell_type": "markdown",
      "source": [
        "21. Write a PyTorch snippet to get the values of the elements that are bigger than a given *number* in a given tensor.\n",
        "\n",
        "Original tensor:\n",
        "```\n",
        "[[ 0 10 20]\n",
        "[20 30 40]]\n",
        "```\n",
        "Number: 10\n",
        "\n",
        "Values bigger than 10 = `[20 20 30 40]`"
      ],
      "metadata": {
        "id": "n8dqXvMZ4oFb"
      }
    },
    {
      "cell_type": "code",
      "source": [
        "tensor = torch.tensor([[9,10,20],[20,30,40]])\n",
        "tensor[tensor>10]"
      ],
      "metadata": {
        "id": "HwoDL-Kr4ww4",
        "colab": {
          "base_uri": "https://localhost:8080/"
        },
        "outputId": "cfaa723a-1776-45d4-94c0-66ffc8871ebe"
      },
      "execution_count": 21,
      "outputs": [
        {
          "output_type": "execute_result",
          "data": {
            "text/plain": [
              "tensor([20, 20, 30, 40])"
            ]
          },
          "metadata": {},
          "execution_count": 21
        }
      ]
    },
    {
      "cell_type": "markdown",
      "source": [
        "22. Write a PyTorch snippet to create another shape from an array without changing its data. After carrying out the operation, change the data in one place and see if the other tensor changes\n",
        "\n",
        "Reshape 3x2:\n",
        "```\n",
        "[[1 2]\n",
        "[3 4]\n",
        "[5 6]]\n",
        "```\n",
        "Reshape 2x3:\n",
        "```\n",
        "[[1 2 3]\n",
        "[4 5 6]]\n",
        "```"
      ],
      "metadata": {
        "id": "QmR9luYk4xaa"
      }
    },
    {
      "cell_type": "code",
      "source": [
        "tensor = torch.arange(1,7).reshape(3,2)\n",
        "print(tensor)\n",
        "tensor.reshape(2,3)"
      ],
      "metadata": {
        "id": "oUvXdmtV5ZRJ",
        "colab": {
          "base_uri": "https://localhost:8080/"
        },
        "outputId": "78396adf-9af1-441c-a86e-e3658e67ca66"
      },
      "execution_count": 22,
      "outputs": [
        {
          "output_type": "stream",
          "name": "stdout",
          "text": [
            "tensor([[1, 2],\n",
            "        [3, 4],\n",
            "        [5, 6]])\n"
          ]
        },
        {
          "output_type": "execute_result",
          "data": {
            "text/plain": [
              "tensor([[1, 2, 3],\n",
              "        [4, 5, 6]])"
            ]
          },
          "metadata": {},
          "execution_count": 22
        }
      ]
    },
    {
      "cell_type": "markdown",
      "source": [
        "23. Write a PyTorch snipppet to change an tensor's data type.\n",
        "```\n",
        "[[ 2 4 6]\n",
        "[ 6 8 10]]\n",
        "```\n",
        "Data type of the array x is: `int32`\n",
        "\n",
        "New Type: `float64`\n",
        "```\n",
        "[[ 2. 4. 6.]\n",
        "[ 6. 8. 10.]]\n",
        "```"
      ],
      "metadata": {
        "id": "ew1n8aUg5QZA"
      }
    },
    {
      "cell_type": "code",
      "source": [
        "tensor = torch.tensor([2,4,6,6,8,10],dtype=torch.int32).reshape(2,3)\n",
        "print(tensor)\n",
        "print(\"\\n\\n\")\n",
        "tensor = tensor.to(torch.float64)\n",
        "print(tensor)"
      ],
      "metadata": {
        "id": "UYsvKDLYVfYE",
        "outputId": "5cd7c4c8-e5e5-42d1-9d25-1a0dc6c42ea8",
        "colab": {
          "base_uri": "https://localhost:8080/"
        }
      },
      "execution_count": 23,
      "outputs": [
        {
          "output_type": "stream",
          "name": "stdout",
          "text": [
            "tensor([[ 2,  4,  6],\n",
            "        [ 6,  8, 10]], dtype=torch.int32)\n",
            "\n",
            "\n",
            "\n",
            "tensor([[ 2.,  4.,  6.],\n",
            "        [ 6.,  8., 10.]], dtype=torch.float64)\n"
          ]
        }
      ]
    },
    {
      "cell_type": "markdown",
      "source": [
        "24. Write a PyTorch snippet to insert a new axis within a 2-tensor, based on a **parameter**.\n",
        "\n",
        "Ex: If 2-tensor has shape (3, 4).\n",
        "\n",
        "Then, new shape can be (1, 3, 4), (3, 1, 4), or (3, 4, 1) depending on...."
      ],
      "metadata": {
        "id": "0hf1vOk75-Df"
      }
    },
    {
      "cell_type": "code",
      "source": [
        "tensor = torch.randn(3,4)\n",
        "tensor1 =torch.unsqueeze(tensor,0)\n",
        "tensor2 =torch.unsqueeze(tensor,1)\n",
        "tensor3 =torch.unsqueeze(tensor,2)\n",
        "print(tensor1.shape,tensor2.shape,tensor3.shape)"
      ],
      "metadata": {
        "id": "38vF5Dwk5Dbi",
        "colab": {
          "base_uri": "https://localhost:8080/"
        },
        "outputId": "a81593f1-ce35-4808-c8f2-87aec468c5c0"
      },
      "execution_count": 24,
      "outputs": [
        {
          "output_type": "stream",
          "name": "stdout",
          "text": [
            "torch.Size([1, 3, 4]) torch.Size([3, 1, 4]) torch.Size([3, 4, 1])\n"
          ]
        }
      ]
    },
    {
      "cell_type": "markdown",
      "source": [
        "25. Write a PyTorch snippet to stack tensors based on a parameter, **axis**.\n",
        "First discover what this means with 2-tensors, then extend it to 3-tensors. Print your findings.\n",
        "\n",
        "Sample Output:\n",
        "\n",
        "Original tensors:\n",
        "\n",
        "Tensor-1\n",
        "```\n",
        "[[0 1 2]\n",
        "[3 4 5]\n",
        "[6 7 8]]\n",
        "```\n",
        "Tensor-2\n",
        "```\n",
        "[[ 0 3 6]\n",
        "[ 9 12 15]\n",
        "[18 21 24]]\n",
        "```\n",
        "Stack tensors such that axis=1:\n",
        "```\n",
        "[[ 0 1 2 0 3 6]\n",
        "[ 3 4 5 9 12 15]\n",
        "[ 6 7 8 18 21 24]]\n",
        "```"
      ],
      "metadata": {
        "id": "K4GeygLp7wAt"
      }
    },
    {
      "cell_type": "code",
      "source": [
        "tensor1 = torch.tensor([[0, 1, 2],\n",
        "                        [3, 4, 5],\n",
        "                        [6, 7, 8]])\n",
        "\n",
        "tensor2 = torch.tensor([[ 0 ,3, 6],\n",
        "                        [ 9 ,12 ,15],\n",
        "                        [18, 21, 24]])\n",
        "tensor = torch.hstack((tensor1,tensor2))\n",
        "tensor"
      ],
      "metadata": {
        "id": "-37mCkKH75fN",
        "colab": {
          "base_uri": "https://localhost:8080/"
        },
        "outputId": "58fc4803-e9c1-48b8-a43f-e6328960eb6f"
      },
      "execution_count": 25,
      "outputs": [
        {
          "output_type": "execute_result",
          "data": {
            "text/plain": [
              "tensor([[ 0,  1,  2,  0,  3,  6],\n",
              "        [ 3,  4,  5,  9, 12, 15],\n",
              "        [ 6,  7,  8, 18, 21, 24]])"
            ]
          },
          "metadata": {},
          "execution_count": 25
        }
      ]
    },
    {
      "cell_type": "markdown",
      "source": [
        "26. Write a PyTorch snippet to extract the **m**th to **n**th elements of the **m**th to **n**th rows from the **m**th to nth elemnts of given 3-tensor, of shape `(p, q, r)` where m, n < p, q, r.\n",
        "\n",
        "Take a 3-tensor of (say) size `(5,6,7)` and `(m, n)` = `(4, 5)` as a test case!"
      ],
      "metadata": {
        "id": "6kix-xlh8hFz"
      }
    },
    {
      "cell_type": "code",
      "source": [
        "tensor =torch.randn(3,4,5)\n",
        "print(tensor)\n",
        "tensor[:,:,4:5]"
      ],
      "metadata": {
        "id": "9rHLZOxDZo0j",
        "outputId": "3de5fd94-f1dd-4da3-d246-d8f8d3f39380",
        "colab": {
          "base_uri": "https://localhost:8080/"
        }
      },
      "execution_count": 26,
      "outputs": [
        {
          "output_type": "stream",
          "name": "stdout",
          "text": [
            "tensor([[[-2.1217,  1.7840, -0.1189,  0.6954, -0.4316],\n",
            "         [ 1.5193,  0.4295,  0.9210, -0.7729, -1.7679],\n",
            "         [ 0.6133,  1.9563,  0.4377,  0.7191,  0.7950],\n",
            "         [ 1.0295,  0.1211, -1.4169,  0.9520, -0.1733]],\n",
            "\n",
            "        [[ 0.8265, -0.4940,  1.0851,  1.5866,  0.3826],\n",
            "         [-0.6154, -0.8723, -1.4518,  0.3099,  0.0253],\n",
            "         [ 0.5094, -0.2413,  0.1340, -0.4821, -0.3328],\n",
            "         [-1.6716,  1.0142, -0.0082, -0.3846, -0.2959]],\n",
            "\n",
            "        [[-0.7221, -1.0630, -0.1998,  1.4644,  0.1498],\n",
            "         [-0.6157,  1.1768, -0.0418,  2.9471, -0.8969],\n",
            "         [ 1.2101,  0.6244, -0.9154,  0.6533, -0.8864],\n",
            "         [ 1.0788, -0.6539, -1.4055,  0.7866,  0.6235]]])\n"
          ]
        },
        {
          "output_type": "execute_result",
          "data": {
            "text/plain": [
              "tensor([[[-0.4316],\n",
              "         [-1.7679],\n",
              "         [ 0.7950],\n",
              "         [-0.1733]],\n",
              "\n",
              "        [[ 0.3826],\n",
              "         [ 0.0253],\n",
              "         [-0.3328],\n",
              "         [-0.2959]],\n",
              "\n",
              "        [[ 0.1498],\n",
              "         [-0.8969],\n",
              "         [-0.8864],\n",
              "         [ 0.6235]]])"
            ]
          },
          "metadata": {},
          "execution_count": 26
        }
      ]
    },
    {
      "cell_type": "markdown",
      "source": [
        "### **Test your Understanding**"
      ],
      "metadata": {
        "id": "IxOFseFaxEQu"
      }
    },
    {
      "cell_type": "markdown",
      "source": [
        "1. Given a 3D tensor of shape `(a, b, c)`*italicised text*, permute its axes to obtain tensors of all other shape combinations (i.e 5)."
      ],
      "metadata": {
        "id": "Vzbo4s_KAsE9"
      }
    },
    {
      "cell_type": "code",
      "source": [
        "tensor = torch.randn(2, 3, 4)\n",
        "\n",
        "# Permute the 3 axes\n",
        "permutations = [(0, 1, 2), (0, 2, 1), (1, 0, 2), (1, 2, 0), (2, 0, 1), (2, 1, 0)]\n",
        "\n",
        "for permutation in permutations:\n",
        "  print(tensor.permute(permutation))\n"
      ],
      "metadata": {
        "id": "R791RvsIAh3O",
        "colab": {
          "base_uri": "https://localhost:8080/"
        },
        "outputId": "f6d721d9-57de-4d0b-8cbe-f2a9afa9fcde"
      },
      "execution_count": 27,
      "outputs": [
        {
          "output_type": "stream",
          "name": "stdout",
          "text": [
            "tensor([[[ 0.5244,  2.1557,  1.2785, -0.0622],\n",
            "         [ 0.5458, -1.7856, -0.2169,  0.6027],\n",
            "         [ 1.7800, -1.1392,  1.8168,  0.3392]],\n",
            "\n",
            "        [[ 1.0244,  0.9230,  0.1761,  0.8945],\n",
            "         [ 1.7480, -0.5405, -0.1123,  1.9624],\n",
            "         [-0.4271,  1.0494,  1.2513,  1.5070]]])\n",
            "tensor([[[ 0.5244,  0.5458,  1.7800],\n",
            "         [ 2.1557, -1.7856, -1.1392],\n",
            "         [ 1.2785, -0.2169,  1.8168],\n",
            "         [-0.0622,  0.6027,  0.3392]],\n",
            "\n",
            "        [[ 1.0244,  1.7480, -0.4271],\n",
            "         [ 0.9230, -0.5405,  1.0494],\n",
            "         [ 0.1761, -0.1123,  1.2513],\n",
            "         [ 0.8945,  1.9624,  1.5070]]])\n",
            "tensor([[[ 0.5244,  2.1557,  1.2785, -0.0622],\n",
            "         [ 1.0244,  0.9230,  0.1761,  0.8945]],\n",
            "\n",
            "        [[ 0.5458, -1.7856, -0.2169,  0.6027],\n",
            "         [ 1.7480, -0.5405, -0.1123,  1.9624]],\n",
            "\n",
            "        [[ 1.7800, -1.1392,  1.8168,  0.3392],\n",
            "         [-0.4271,  1.0494,  1.2513,  1.5070]]])\n",
            "tensor([[[ 0.5244,  1.0244],\n",
            "         [ 2.1557,  0.9230],\n",
            "         [ 1.2785,  0.1761],\n",
            "         [-0.0622,  0.8945]],\n",
            "\n",
            "        [[ 0.5458,  1.7480],\n",
            "         [-1.7856, -0.5405],\n",
            "         [-0.2169, -0.1123],\n",
            "         [ 0.6027,  1.9624]],\n",
            "\n",
            "        [[ 1.7800, -0.4271],\n",
            "         [-1.1392,  1.0494],\n",
            "         [ 1.8168,  1.2513],\n",
            "         [ 0.3392,  1.5070]]])\n",
            "tensor([[[ 0.5244,  0.5458,  1.7800],\n",
            "         [ 1.0244,  1.7480, -0.4271]],\n",
            "\n",
            "        [[ 2.1557, -1.7856, -1.1392],\n",
            "         [ 0.9230, -0.5405,  1.0494]],\n",
            "\n",
            "        [[ 1.2785, -0.2169,  1.8168],\n",
            "         [ 0.1761, -0.1123,  1.2513]],\n",
            "\n",
            "        [[-0.0622,  0.6027,  0.3392],\n",
            "         [ 0.8945,  1.9624,  1.5070]]])\n",
            "tensor([[[ 0.5244,  1.0244],\n",
            "         [ 0.5458,  1.7480],\n",
            "         [ 1.7800, -0.4271]],\n",
            "\n",
            "        [[ 2.1557,  0.9230],\n",
            "         [-1.7856, -0.5405],\n",
            "         [-1.1392,  1.0494]],\n",
            "\n",
            "        [[ 1.2785,  0.1761],\n",
            "         [-0.2169, -0.1123],\n",
            "         [ 1.8168,  1.2513]],\n",
            "\n",
            "        [[-0.0622,  0.8945],\n",
            "         [ 0.6027,  1.9624],\n",
            "         [ 0.3392,  1.5070]]])\n"
          ]
        }
      ]
    },
    {
      "cell_type": "markdown",
      "source": [
        "2. Given a 4D tensor of shape `(2, 3, 4, 5)`, transpose it to obtain a tensor of shape `(2, 4, 5, 3)`. Also explore what is_contiguous() means..."
      ],
      "metadata": {
        "id": "CwETJF5fAz-j"
      }
    },
    {
      "cell_type": "code",
      "source": [
        "\n",
        "tensor = torch.randn(2, 3, 4, 5)\n",
        "\n",
        "#transpose\n",
        "transposed_tensor = tensor.transpose(1, 2)\n",
        "\n",
        "print(\"Original tensor shape:\", tensor.shape)\n",
        "print(\"Transposed tensor shape:\", transposed_tensor.shape)\n",
        "\n",
        "print(\"\\n\\n\")\n",
        "\n",
        "# Check\n",
        "print(\"Is the transposed tensor contiguous?\", transposed_tensor.is_contiguous())\n",
        "\n",
        "print(\"Is the original tensor contiguous?\", tensor.is_contiguous())\n"
      ],
      "metadata": {
        "id": "tfdlEGx3Ag2B",
        "colab": {
          "base_uri": "https://localhost:8080/"
        },
        "outputId": "b31e0f8c-a770-401e-ef26-dd62b14a9f34"
      },
      "execution_count": 28,
      "outputs": [
        {
          "output_type": "stream",
          "name": "stdout",
          "text": [
            "Original tensor shape: torch.Size([2, 3, 4, 5])\n",
            "Transposed tensor shape: torch.Size([2, 4, 3, 5])\n",
            "\n",
            "\n",
            "\n",
            "Is the transposed tensor contiguous? False\n",
            "Is the original tensor contiguous? True\n"
          ]
        }
      ]
    },
    {
      "cell_type": "markdown",
      "source": [
        "3. Given two tensors, one of shape (n, 1) and another of shape (m, ), perform an element-wise addition **manually**. Then, test out what direct addition does and compare your results!"
      ],
      "metadata": {
        "id": "W13ajP4aBO3v"
      }
    },
    {
      "cell_type": "code",
      "source": [
        "n=3\n",
        "m=2\n",
        "tensor1 = torch.randn(n,1)\n",
        "tensor2 = torch.randn(m)\n",
        "print(tensor1)\n",
        "print(tensor2)\n",
        "tensor = tensor1 + tensor2\n",
        "print(\"\\n\\n\")\n",
        "print(tensor)\n",
        "\n",
        "manual_tensor1 = tensor1.expand(n,m)\n",
        "manual_tensor2 = tensor2.expand(n,m)\n",
        "manual_tensor = manual_tensor1 + manual_tensor2\n",
        "print(\"\\n\\n\")\n",
        "print(manual_tensor)\n",
        "print(\"\\n\\n\")\n",
        "\n",
        "torch.equal(tensor,manual_tensor)"
      ],
      "metadata": {
        "id": "3AtpWGh1Bdpd",
        "colab": {
          "base_uri": "https://localhost:8080/"
        },
        "outputId": "3266c55c-469e-4115-a466-e08f95a68a59"
      },
      "execution_count": 29,
      "outputs": [
        {
          "output_type": "stream",
          "name": "stdout",
          "text": [
            "tensor([[ 2.3652],\n",
            "        [-0.3581],\n",
            "        [ 0.7548]])\n",
            "tensor([-0.0238, -0.3764])\n",
            "\n",
            "\n",
            "\n",
            "tensor([[ 2.3414,  1.9888],\n",
            "        [-0.3820, -0.7346],\n",
            "        [ 0.7310,  0.3784]])\n",
            "\n",
            "\n",
            "\n",
            "tensor([[ 2.3414,  1.9888],\n",
            "        [-0.3820, -0.7346],\n",
            "        [ 0.7310,  0.3784]])\n",
            "\n",
            "\n",
            "\n"
          ]
        },
        {
          "output_type": "execute_result",
          "data": {
            "text/plain": [
              "True"
            ]
          },
          "metadata": {},
          "execution_count": 29
        }
      ]
    },
    {
      "cell_type": "markdown",
      "source": [
        "4. Given a 3D tensor of shape `(4, 4, 4)`, extract a sub-tensor of shape `(2, 2, 2)` starting from the element at index `(1, 1, 1)`**bold text**."
      ],
      "metadata": {
        "id": "LnyUlwKWBeUz"
      }
    },
    {
      "cell_type": "code",
      "source": [
        "tensor = torch.randn(4, 4, 4)\n",
        "sub_tensor = tensor[1:3, 1:3, 1:3]\n",
        "print(sub_tensor)"
      ],
      "metadata": {
        "id": "1oRhgDE6BqKg",
        "colab": {
          "base_uri": "https://localhost:8080/"
        },
        "outputId": "a3690b65-cfe2-4e77-9d31-016de254ab47"
      },
      "execution_count": 30,
      "outputs": [
        {
          "output_type": "stream",
          "name": "stdout",
          "text": [
            "tensor([[[ 1.0871, -0.9737],\n",
            "         [-0.9810,  0.0738]],\n",
            "\n",
            "        [[ 0.0936, -0.7618],\n",
            "         [ 2.0092,  0.3266]]])\n"
          ]
        }
      ]
    },
    {
      "cell_type": "markdown",
      "source": [
        "5. Given a 2-tensor of arbitrary shape, rotate it 90 degrees anticlockwise.\n",
        "\n"
      ],
      "metadata": {
        "id": "-GJaZaZyBsaU"
      }
    },
    {
      "cell_type": "code",
      "source": [
        "tensor = torch.randn(3,4)\n",
        "print(tensor)\n",
        "print(\"\\n\\n\")\n",
        "tensor = torch.rot90(tensor,3) #3 means rotating clockwise 3 times\n",
        "print(tensor)"
      ],
      "metadata": {
        "id": "fb5enhEsB1Um",
        "colab": {
          "base_uri": "https://localhost:8080/"
        },
        "outputId": "2a749953-aa9b-4907-9839-c0cc7571d2c6"
      },
      "execution_count": 31,
      "outputs": [
        {
          "output_type": "stream",
          "name": "stdout",
          "text": [
            "tensor([[ 0.8270,  0.9019,  0.2212, -1.9710],\n",
            "        [-0.2173,  0.2465,  0.4782,  0.6914],\n",
            "        [ 1.9449,  0.3016, -0.8877, -2.0781]])\n",
            "\n",
            "\n",
            "\n",
            "tensor([[ 1.9449, -0.2173,  0.8270],\n",
            "        [ 0.3016,  0.2465,  0.9019],\n",
            "        [-0.8877,  0.4782,  0.2212],\n",
            "        [-2.0781,  0.6914, -1.9710]])\n"
          ]
        }
      ]
    },
    {
      "cell_type": "markdown",
      "source": [
        "### **EVEN I HAD TO THINK...**"
      ],
      "metadata": {
        "id": "DNTlDxZ4C4-R"
      }
    },
    {
      "cell_type": "markdown",
      "source": [
        "1. Implement a custom operation that computes the **element-wise** **sine** of a tensor *and* its **gradient** using torch.autograd.Function.\n",
        "- You need to implement both the forward() and backward() methods.\n",
        "- For an example, look no further than the [PyTorch docs](https://pytorch.org/docs/stable/autograd.html#function)!\n",
        "- Test it out on a matrix of arbitrary size!"
      ],
      "metadata": {
        "id": "Mh71KC4rDAcY"
      }
    },
    {
      "cell_type": "code",
      "source": [],
      "metadata": {
        "id": "0Ntq8CgFC9jy"
      },
      "execution_count": 31,
      "outputs": []
    },
    {
      "cell_type": "markdown",
      "source": [
        "2. One of the most important aspects of improving model performance ins normalization. Implement a custom NN normalization layer that performs either a **batch** or **layer** normalization (based on a **dim** parameter)and integrate it into a simple feedforward neural network.\n",
        "- Note that you dont need to implement any backward() here, for simplicity.\n",
        "- Consider your input tensor to the neural network as of shape (m, n) where m is num of examples, n is num of features.\n",
        "- Which value of **dim** leads to batch and layer normalization?"
      ],
      "metadata": {
        "id": "s6GDwW-dFCyT"
      }
    },
    {
      "cell_type": "code",
      "source": [
        "import torch\n",
        "import torch.nn as nn\n",
        "\n",
        "class normalization(nn.Module):\n",
        "  def __init__(self,dim):\n",
        "    super(normalization,self).__init__()\n",
        "    self.dim =dim\n",
        "\n",
        "  def forward(self,x):\n",
        "    if self.dim ==0:\n",
        "      mean = x.mean(dim=0,keepdim=True)\n",
        "      std = x.std(dim=0,keepdim=True)\n",
        "\n",
        "    elif self.dim==1:\n",
        "      mean = x.mean(dim=1,keepdim=True)\n",
        "      std = x.std(dim=1,keepdim=1)\n",
        "\n",
        "    else:\n",
        "      raise ValueError(\"Not Correct\")\n",
        "\n",
        "    x_norm = (x-mean)/(std+1e-5)\n",
        "    return x_norm\n",
        "\n",
        "class SimpleNN(nn.Module):\n",
        "  def __init__(self,input_size,hidden_size,output_size,norm_dim):\n",
        "    super(SimpleNN,self).__init__()\n",
        "    self.fc1 = nn.Linear(input_size,hidden_size)\n",
        "    self.norm = normalization(norm_dim)\n",
        "    self.relu = nn.ReLU()\n",
        "    self.fc2 = nn.Linear(hidden_size,output_size)\n",
        "\n",
        "  def forward(self,x):\n",
        "    x = self.fc1(x)\n",
        "    x = self.norm(x)\n",
        "    x = self.relu(x)\n",
        "    x = self.fc2(x)\n",
        "    return x\n",
        "\n",
        "if __name__ == \"__main__\":\n",
        "  m,n =5,3\n",
        "  tensor = torch.randn(5,3)\n",
        "\n",
        "  #batch\n",
        "  model_batch = SimpleNN(input_size=n,hidden_size=4,output_size=2,norm_dim=0)\n",
        "  output_batch = model_batch(tensor)\n",
        "  print(output_batch)\n",
        "\n",
        "  print(\"\\n\\n\")\n",
        "\n",
        "  #layer\n",
        "  model_layer = SimpleNN(input_size=n,hidden_size=4,output_size=2,norm_dim=0)\n",
        "  output_layer = model_layer(tensor)\n",
        "  print(output_layer)\n",
        "\n"
      ],
      "metadata": {
        "id": "KiofKZz_FgHd",
        "colab": {
          "base_uri": "https://localhost:8080/"
        },
        "outputId": "cb46f3db-2a74-470d-cd6a-529e2f446824"
      },
      "execution_count": 34,
      "outputs": [
        {
          "output_type": "stream",
          "name": "stdout",
          "text": [
            "tensor([[-0.7645,  0.5235],\n",
            "        [-0.4648, -0.0514],\n",
            "        [-0.0296, -0.1509],\n",
            "        [-0.0447, -0.1659],\n",
            "        [-1.2172,  0.8321]], grad_fn=<AddmmBackward0>)\n",
            "\n",
            "\n",
            "\n",
            "tensor([[-0.1075, -0.1841],\n",
            "        [ 0.5937, -0.6271],\n",
            "        [-0.1894, -0.4241],\n",
            "        [-0.2017, -0.6613],\n",
            "        [-0.0836, -0.0872]], grad_fn=<AddmmBackward0>)\n"
          ]
        }
      ]
    },
    {
      "cell_type": "markdown",
      "source": [
        "3. Given a 4D tensor of shape (2, 3, 4, 5), create a mask that sets all elements in positions where the sum of indices is even to zero."
      ],
      "metadata": {
        "id": "YEc0BxM8GGcL"
      }
    },
    {
      "cell_type": "code",
      "source": [
        "tensor = torch.randn(2,3,4,5)\n",
        "i = torch.arange(2).view(-1, 1, 1, 1)\n",
        "j = torch.arange(3).view(1, -1, 1, 1)\n",
        "k = torch.arange(4).view(1, 1, -1, 1)\n",
        "l = torch.arange(5).view(1, 1, 1, -1)\n",
        "\n",
        "index_sum = i+j+k+l\n",
        "\n",
        "mask = (index_sum%2==0)\n",
        "tensor[mask] =0\n",
        "\n",
        "print(tensor)"
      ],
      "metadata": {
        "id": "pJ3FD5XiGLh8",
        "colab": {
          "base_uri": "https://localhost:8080/"
        },
        "outputId": "340fe147-85ae-4351-d5b8-c1770deee4a6"
      },
      "execution_count": 36,
      "outputs": [
        {
          "output_type": "stream",
          "name": "stdout",
          "text": [
            "tensor([[[[ 0.0000,  0.3361,  0.0000,  1.0126,  0.0000],\n",
            "          [ 1.9538,  0.0000, -0.1786,  0.0000,  1.4659],\n",
            "          [ 0.0000, -1.7590,  0.0000, -0.2221,  0.0000],\n",
            "          [ 0.3396,  0.0000, -1.7564,  0.0000, -0.1579]],\n",
            "\n",
            "         [[ 0.4740,  0.0000, -0.9076,  0.0000, -0.5991],\n",
            "          [ 0.0000, -0.4385,  0.0000,  0.6654,  0.0000],\n",
            "          [ 0.0848,  0.0000,  1.4083,  0.0000, -0.2645],\n",
            "          [ 0.0000, -0.2127,  0.0000,  0.7643,  0.0000]],\n",
            "\n",
            "         [[ 0.0000, -0.2413,  0.0000, -1.5222,  0.0000],\n",
            "          [ 0.2864,  0.0000,  1.4033,  0.0000, -0.1862],\n",
            "          [ 0.0000, -0.4286,  0.0000, -0.5096,  0.0000],\n",
            "          [-1.8448,  0.0000,  1.0248,  0.0000,  0.3152]]],\n",
            "\n",
            "\n",
            "        [[[-1.0977,  0.0000,  0.2330,  0.0000,  0.4175],\n",
            "          [ 0.0000, -2.3861,  0.0000,  0.3467,  0.0000],\n",
            "          [-0.0604,  0.0000, -1.8416,  0.0000, -0.6933],\n",
            "          [ 0.0000,  0.0639,  0.0000,  0.4413,  0.0000]],\n",
            "\n",
            "         [[ 0.0000, -0.7072,  0.0000,  0.0181,  0.0000],\n",
            "          [ 0.8189,  0.0000, -0.1678,  0.0000,  1.9642],\n",
            "          [ 0.0000, -1.5315,  0.0000,  0.9330,  0.0000],\n",
            "          [ 0.3918,  0.0000,  2.0907,  0.0000, -0.2274]],\n",
            "\n",
            "         [[-1.0348,  0.0000,  0.6179,  0.0000, -0.6705],\n",
            "          [ 0.0000,  0.1245,  0.0000,  0.5588,  0.0000],\n",
            "          [-0.6622,  0.0000,  0.0197,  0.0000,  0.2506],\n",
            "          [ 0.0000, -0.3407,  0.0000, -0.4611,  0.0000]]]])\n"
          ]
        }
      ]
    },
    {
      "cell_type": "markdown",
      "source": [
        "3. Given two tensors, one of shape `(3, 1, 4)` and another of shape `(1, 5, 1)`, compute their element-wise multiplication using broadcasting and then sum over specific axes to obtain a tensor of shape `(3, 5)`."
      ],
      "metadata": {
        "id": "Tv557NaJGMlQ"
      }
    },
    {
      "cell_type": "code",
      "source": [
        "tensor1 =torch.randn(3,1,4)\n",
        "tensor2 = torch.randn(1,5,1)\n",
        "\n",
        "resultant = tensor1*tensor2\n",
        "\n",
        "summed = resultant.sum(dim=2)\n",
        "print(tensor1)\n",
        "print(\"\\n\")\n",
        "print(tensor2)\n",
        "print(\"\\n\")\n",
        "print(resultant)\n",
        "print(\"\\n\")\n",
        "print(summed)\n",
        "print(\"\\n\")"
      ],
      "metadata": {
        "id": "qP3EGgyXGMMH",
        "colab": {
          "base_uri": "https://localhost:8080/"
        },
        "outputId": "5fea79f5-e078-489c-eb56-1fdbf3b9023f"
      },
      "execution_count": 37,
      "outputs": [
        {
          "output_type": "stream",
          "name": "stdout",
          "text": [
            "tensor([[[ 0.4435, -1.4866,  0.6045, -1.2303]],\n",
            "\n",
            "        [[ 0.8120,  0.5872, -1.0588,  0.9994]],\n",
            "\n",
            "        [[ 0.3364, -0.3543, -0.3715,  0.9508]]])\n",
            "\n",
            "\n",
            "tensor([[[-0.3210],\n",
            "         [ 0.7544],\n",
            "         [ 0.7008],\n",
            "         [-0.9524],\n",
            "         [-2.2063]]])\n",
            "\n",
            "\n",
            "tensor([[[-0.1424,  0.4772, -0.1940,  0.3950],\n",
            "         [ 0.3346, -1.1215,  0.4560, -0.9282],\n",
            "         [ 0.3108, -1.0418,  0.4236, -0.8622],\n",
            "         [-0.4224,  1.4158, -0.5757,  1.1718],\n",
            "         [-0.9785,  3.2798, -1.3336,  2.7144]],\n",
            "\n",
            "        [[-0.2607, -0.1885,  0.3399, -0.3208],\n",
            "         [ 0.6126,  0.4430, -0.7988,  0.7539],\n",
            "         [ 0.5691,  0.4115, -0.7420,  0.7003],\n",
            "         [-0.7734, -0.5592,  1.0084, -0.9518],\n",
            "         [-1.7916, -1.2955,  2.3359, -2.2049]],\n",
            "\n",
            "        [[-0.1080,  0.1137,  0.1193, -0.3052],\n",
            "         [ 0.2538, -0.2673, -0.2803,  0.7173],\n",
            "         [ 0.2358, -0.2483, -0.2603,  0.6663],\n",
            "         [-0.3204,  0.3374,  0.3538, -0.9056],\n",
            "         [-0.7423,  0.7816,  0.8196, -2.0978]]])\n",
            "\n",
            "\n",
            "tensor([[ 0.5358, -1.2591, -1.1696,  1.5895,  3.6821],\n",
            "        [-0.4301,  1.0108,  0.9389, -1.2760, -2.9560],\n",
            "        [-0.1803,  0.4236,  0.3935, -0.5348, -1.2389]])\n",
            "\n",
            "\n"
          ]
        }
      ]
    },
    {
      "cell_type": "code",
      "source": [],
      "metadata": {
        "id": "-HVK0vXxOmVe"
      },
      "execution_count": null,
      "outputs": []
    }
  ]
}